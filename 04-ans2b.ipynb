{
  "cells": [
    {
      "cell_type": "markdown",
      "metadata": {
        "colab_type": "text",
        "id": "view-in-github"
      },
      "source": [
        "<a href=\"https://colab.research.google.com/github/abuebayyeh/imperial_eee_machine_learning_course/blob/main/04_ML_Logistic.ipynb\" target=\"_parent\"><img src=\"https://colab.research.google.com/assets/colab-badge.svg\" alt=\"Open In Colab\"/></a>"
      ]
    },
    {
      "cell_type": "markdown",
      "metadata": {
        "id": "tuGhkogsHwoU"
      },
      "source": [
        "# Data Used & Problem Definition\n",
        "\n",
        "We will use logistic regression as a binary classifier between Setosa vs other classes (verginica and versicolor grouped together). Here we say that data points with features that result in output probabilities closer to 0 are likely Setosa, while values closer to 1 are likely not Setosa. For simplicity, we will consider two features, petal length and sepal length, which can be visualised in a 2D plot."
      ]
    },
    {
      "cell_type": "code",
      "execution_count": 57,
      "metadata": {
        "id": "3FDTMPVBICnn"
      },
      "outputs": [],
      "source": [
        "import numpy as np\n",
        "import matplotlib.pyplot as plt\n",
        "import seaborn as sns\n",
        "from sklearn import datasets\n",
        "import pandas as pd"
      ]
    },
    {
      "cell_type": "code",
      "execution_count": 58,
      "metadata": {
        "id": "TC00kVohIHQX"
      },
      "outputs": [],
      "source": [
        "iris = datasets.load_iris()"
      ]
    },
    {
      "cell_type": "code",
      "execution_count": 59,
      "metadata": {
        "id": "1Dn4d5jZIKl2"
      },
      "outputs": [],
      "source": [
        "iris_data = pd.DataFrame(data=iris['data'],columns=iris['feature_names'])\n",
        "iris_data[\"target\"] = iris['target']"
      ]
    },
    {
      "cell_type": "code",
      "execution_count": 60,
      "metadata": {
        "colab": {
          "base_uri": "https://localhost:8080/",
          "height": 424
        },
        "id": "5hel-hsFIM2l",
        "outputId": "821fa2e6-3f98-454a-dd46-1344b84f382e"
      },
      "outputs": [
        {
          "data": {
            "text/html": [
              "<div>\n",
              "<style scoped>\n",
              "    .dataframe tbody tr th:only-of-type {\n",
              "        vertical-align: middle;\n",
              "    }\n",
              "\n",
              "    .dataframe tbody tr th {\n",
              "        vertical-align: top;\n",
              "    }\n",
              "\n",
              "    .dataframe thead th {\n",
              "        text-align: right;\n",
              "    }\n",
              "</style>\n",
              "<table border=\"1\" class=\"dataframe\">\n",
              "  <thead>\n",
              "    <tr style=\"text-align: right;\">\n",
              "      <th></th>\n",
              "      <th>sepal length (cm)</th>\n",
              "      <th>sepal width (cm)</th>\n",
              "      <th>petal length (cm)</th>\n",
              "      <th>petal width (cm)</th>\n",
              "      <th>target</th>\n",
              "    </tr>\n",
              "  </thead>\n",
              "  <tbody>\n",
              "    <tr>\n",
              "      <th>0</th>\n",
              "      <td>5.1</td>\n",
              "      <td>3.5</td>\n",
              "      <td>1.4</td>\n",
              "      <td>0.2</td>\n",
              "      <td>0</td>\n",
              "    </tr>\n",
              "    <tr>\n",
              "      <th>1</th>\n",
              "      <td>4.9</td>\n",
              "      <td>3.0</td>\n",
              "      <td>1.4</td>\n",
              "      <td>0.2</td>\n",
              "      <td>0</td>\n",
              "    </tr>\n",
              "    <tr>\n",
              "      <th>2</th>\n",
              "      <td>4.7</td>\n",
              "      <td>3.2</td>\n",
              "      <td>1.3</td>\n",
              "      <td>0.2</td>\n",
              "      <td>0</td>\n",
              "    </tr>\n",
              "    <tr>\n",
              "      <th>3</th>\n",
              "      <td>4.6</td>\n",
              "      <td>3.1</td>\n",
              "      <td>1.5</td>\n",
              "      <td>0.2</td>\n",
              "      <td>0</td>\n",
              "    </tr>\n",
              "    <tr>\n",
              "      <th>4</th>\n",
              "      <td>5.0</td>\n",
              "      <td>3.6</td>\n",
              "      <td>1.4</td>\n",
              "      <td>0.2</td>\n",
              "      <td>0</td>\n",
              "    </tr>\n",
              "    <tr>\n",
              "      <th>...</th>\n",
              "      <td>...</td>\n",
              "      <td>...</td>\n",
              "      <td>...</td>\n",
              "      <td>...</td>\n",
              "      <td>...</td>\n",
              "    </tr>\n",
              "    <tr>\n",
              "      <th>145</th>\n",
              "      <td>6.7</td>\n",
              "      <td>3.0</td>\n",
              "      <td>5.2</td>\n",
              "      <td>2.3</td>\n",
              "      <td>2</td>\n",
              "    </tr>\n",
              "    <tr>\n",
              "      <th>146</th>\n",
              "      <td>6.3</td>\n",
              "      <td>2.5</td>\n",
              "      <td>5.0</td>\n",
              "      <td>1.9</td>\n",
              "      <td>2</td>\n",
              "    </tr>\n",
              "    <tr>\n",
              "      <th>147</th>\n",
              "      <td>6.5</td>\n",
              "      <td>3.0</td>\n",
              "      <td>5.2</td>\n",
              "      <td>2.0</td>\n",
              "      <td>2</td>\n",
              "    </tr>\n",
              "    <tr>\n",
              "      <th>148</th>\n",
              "      <td>6.2</td>\n",
              "      <td>3.4</td>\n",
              "      <td>5.4</td>\n",
              "      <td>2.3</td>\n",
              "      <td>2</td>\n",
              "    </tr>\n",
              "    <tr>\n",
              "      <th>149</th>\n",
              "      <td>5.9</td>\n",
              "      <td>3.0</td>\n",
              "      <td>5.1</td>\n",
              "      <td>1.8</td>\n",
              "      <td>2</td>\n",
              "    </tr>\n",
              "  </tbody>\n",
              "</table>\n",
              "<p>150 rows × 5 columns</p>\n",
              "</div>"
            ],
            "text/plain": [
              "     sepal length (cm)  sepal width (cm)  petal length (cm)  petal width (cm)  \\\n",
              "0                  5.1               3.5                1.4               0.2   \n",
              "1                  4.9               3.0                1.4               0.2   \n",
              "2                  4.7               3.2                1.3               0.2   \n",
              "3                  4.6               3.1                1.5               0.2   \n",
              "4                  5.0               3.6                1.4               0.2   \n",
              "..                 ...               ...                ...               ...   \n",
              "145                6.7               3.0                5.2               2.3   \n",
              "146                6.3               2.5                5.0               1.9   \n",
              "147                6.5               3.0                5.2               2.0   \n",
              "148                6.2               3.4                5.4               2.3   \n",
              "149                5.9               3.0                5.1               1.8   \n",
              "\n",
              "     target  \n",
              "0         0  \n",
              "1         0  \n",
              "2         0  \n",
              "3         0  \n",
              "4         0  \n",
              "..      ...  \n",
              "145       2  \n",
              "146       2  \n",
              "147       2  \n",
              "148       2  \n",
              "149       2  \n",
              "\n",
              "[150 rows x 5 columns]"
            ]
          },
          "execution_count": 60,
          "metadata": {},
          "output_type": "execute_result"
        }
      ],
      "source": [
        "iris_data"
      ]
    },
    {
      "cell_type": "code",
      "execution_count": 61,
      "metadata": {
        "colab": {
          "base_uri": "https://localhost:8080/"
        },
        "id": "zNoqQbx2IPyP",
        "outputId": "b4eae640-75ab-4c3b-e9a2-2f18df618430"
      },
      "outputs": [
        {
          "data": {
            "text/plain": [
              "array(['setosa', 'versicolor', 'virginica'], dtype='<U10')"
            ]
          },
          "execution_count": 61,
          "metadata": {},
          "output_type": "execute_result"
        }
      ],
      "source": [
        "iris.target_names"
      ]
    },
    {
      "cell_type": "code",
      "execution_count": 62,
      "metadata": {
        "colab": {
          "base_uri": "https://localhost:8080/",
          "height": 472
        },
        "id": "NuD4gX7EISx_",
        "outputId": "cd5f5bd1-4ee2-40c3-9caa-7bd6db1147ef"
      },
      "outputs": [
        {
          "data": {
            "image/png": "[encoded data removed]",
            "text/plain": [
              "<Figure size 640x480 with 1 Axes>"
            ]
          },
          "metadata": {},
          "output_type": "display_data"
        }
      ],
      "source": [
        "# Target labels are the index in iris.target_names\n",
        "labels = iris_data.iloc[:,4]\n",
        "\n",
        "# Setosa is assigned label 0, while all other classes will have a label of 1\n",
        "y = np.where(labels == 2, 0, 1)\n",
        "\n",
        "# Consider only two features - sepal length (column 0) and petal length (column 2)\n",
        "# Bias term (intercept) is added to each data point (row)\n",
        "X = iris_data.iloc[:,[0,2]]\n",
        "intercept = np.ones((X.shape[0], 1))\n",
        "X = np.concatenate((intercept, X), axis=1)\n",
        "\n",
        "\n",
        "mix = np.concatenate((X, np.array([y]).transpose()), axis=1)\n",
        "rng = np.random.default_rng()\n",
        "rng.shuffle(mix)\n",
        "test_mix = mix[:int(0.2*len(mix)),:]\n",
        "train_mix = mix[int(0.2*len(mix)):,:]\n",
        "test_x = test_mix[:,0:3]\n",
        "test_y = test_mix[:,3]\n",
        "train_x = train_mix[:,0:3]\n",
        "train_y = train_mix[:,3]\n",
        "\n",
        "# Plot features in 2D plot - sepal length (x-axis) vs petal length (y-axis)\n",
        "feat1, feat2 = 'sepal length (cm)', 'petal length (cm)'\n",
        "X_target = iris_data[iris_data.target==2]\n",
        "X_other = iris_data[iris_data.target!=2]\n",
        "\n",
        "plt.scatter(X_target[feat1],X_target[feat2],color='red',marker='o',label=\"Virginica\")\n",
        "plt.scatter(X_other[feat1],X_other[feat2],color='blue',marker='o',label='Other')\n",
        "plt.title(\"Sepal Length vs Petal Length\")\n",
        "plt.xlabel(feat1)\n",
        "plt.ylabel(feat2)\n",
        "plt.legend(loc='upper left')\n",
        "plt.show()"
      ]
    },
    {
      "cell_type": "code",
      "execution_count": 63,
      "metadata": {
        "id": "QwHM2TcGIV-y"
      },
      "outputs": [],
      "source": [
        "def sigmoid(z):\n",
        "    # Sigmoid function\n",
        "    return 1 / (1 + np.exp(-z))"
      ]
    },
    {
      "cell_type": "code",
      "execution_count": 64,
      "metadata": {
        "id": "KQ0hmOVcIY_N"
      },
      "outputs": [],
      "source": [
        "def cost(Y, y):\n",
        "    # log-loss or Binary Cross Entropy (BCE)\n",
        "    eps = 1e-15 # to avoid numerical error at log(0)\n",
        "    return (-y * np.log(Y+eps) - (1 - y) * np.log(1 - Y + eps)).mean()"
      ]
    },
    {
      "cell_type": "code",
      "execution_count": 65,
      "metadata": {
        "id": "Dmh5HE0rIcIL"
      },
      "outputs": [],
      "source": [
        "def plot_cost(loss):\n",
        "    # Function for plotting the cost vs iterations.\n",
        "    plt.plot(range(1, len(loss) + 1), loss)\n",
        "    plt.xlabel('Iterations')\n",
        "    plt.ylabel('Cost')\n",
        "    # plt.savefig('plot.pdf')\n",
        "    plt.show()"
      ]
    },
    {
      "cell_type": "code",
      "execution_count": 66,
      "metadata": {
        "id": "dQvex0M3If5M"
      },
      "outputs": [],
      "source": [
        "def predict(X, W):\n",
        "    # Function for predicting on test data (see Task 1)\n",
        "    prediction = sigmoid(np.dot(X, W))\n",
        "    return prediction.round()"
      ]
    },
    {
      "cell_type": "code",
      "execution_count": 67,
      "metadata": {
        "id": "tQLiEuuJIjlQ"
      },
      "outputs": [],
      "source": [
        "def fit(alpha, num_iter, X, y):\n",
        "    # weights initialization\n",
        "    W = np.zeros(X.shape[1])\n",
        "    loss_list = []\n",
        "    for i in range(num_iter):\n",
        "        # Feed forward\n",
        "        z = np.dot(X, W)\n",
        "        Y = sigmoid(z)\n",
        "        # Gradient\n",
        "        W += alpha * (np.dot(X.T, (y-Y)) / y.size)\n",
        "        loss = cost(Y, y)\n",
        "        loss_list.append(loss)\n",
        "\n",
        "        if i % 100 == 0:\n",
        "            print(f'iteration: {i+1} \\t', f'cost: {loss} \\t', f'weights: {W} \\t')\n",
        "    plot_cost(loss_list)\n",
        "    # This function will return the final weights as an array\n",
        "    return W"
      ]
    },
    {
      "cell_type": "code",
      "execution_count": 68,
      "metadata": {
        "colab": {
          "base_uri": "https://localhost:8080/",
          "height": 970
        },
        "id": "HHGlIadPIpCR",
        "outputId": "430ebe4b-e76d-4746-ee2e-129df45700bd"
      },
      "outputs": [
        {
          "name": "stdout",
          "output_type": "stream",
          "text": [
            "iteration: 1 \t cost: 0.6931471805599435 \t weights: [0.00166667 0.00729167 0.000425  ] \t\n",
            "iteration: 101 \t cost: 0.5623876666625269 \t weights: [ 0.0778335   0.22302542 -0.25085382] \t\n",
            "iteration: 201 \t cost: 0.49418992535396467 \t weights: [ 0.13407098  0.3635646  -0.4623227 ] \t\n",
            "iteration: 301 \t cost: 0.45016070670794883 \t weights: [ 0.18094436  0.47786917 -0.63112152] \t\n",
            "iteration: 401 \t cost: 0.4194953619841874 \t weights: [ 0.22136712  0.57413148 -0.77119793] \t\n",
            "iteration: 501 \t cost: 0.39678271456310543 \t weights: [ 0.25718039  0.65750986 -0.89118234] \t\n",
            "iteration: 601 \t cost: 0.3791304057196047 \t weights: [ 0.289577    0.7313422  -0.99654508] \t\n",
            "iteration: 701 \t cost: 0.3648856737016987 \t weights: [ 0.31935693  0.79786628 -1.09088282] \t\n",
            "iteration: 801 \t cost: 0.3530459235846858 \t weights: [ 0.34707553  0.85863549 -1.17664966] \t\n",
            "iteration: 901 \t cost: 0.34297091807332497 \t weights: [ 0.37313072  0.91476271 -1.25557782] \t\n",
            "iteration: 1001 \t cost: 0.33423357943260645 \t weights: [ 0.39781565  0.96706775 -1.32892706] \t\n",
            "iteration: 1101 \t cost: 0.32653825171634565 \t weights: [ 0.4213516   1.01616939 -1.39763779] \t\n",
            "iteration: 1201 \t cost: 0.3196736635733261 \t weights: [ 0.44390925  1.06254474 -1.46242816] \t\n",
            "iteration: 1301 \t cost: 0.31348466445228335 \t weights: [ 0.46562269  1.1065686  -1.52385759] \t\n",
            "iteration: 1401 \t cost: 0.307854585684508 \t weights: [ 0.48659905  1.14854035 -1.58236957] \t\n",
            "iteration: 1501 \t cost: 0.30269386003637744 \t weights: [ 0.50692515  1.18870258 -1.63832116] \t\n",
            "iteration: 1601 \t cost: 0.29793246072373697 \t weights: [ 0.52667231  1.2272545  -1.69200382] \t\n",
            "iteration: 1701 \t cost: 0.2935147459240581 \t weights: [ 0.5458998   1.26436164 -1.74365842] \t\n",
            "iteration: 1801 \t cost: 0.2893958613657747 \t weights: [ 0.56465738  1.30016298 -1.79348623] \t\n",
            "iteration: 1901 \t cost: 0.28553917775306015 \t weights: [ 0.58298725  1.33477636 -1.84165717] \t\n",
            "iteration: 2001 \t cost: 0.2819144311728426 \t weights: [ 0.6009255   1.36830258 -1.88831597] \t\n",
            "iteration: 2101 \t cost: 0.27849635086107083 \t weights: [ 0.61850326  1.40082855 -1.93358698] \t\n",
            "iteration: 2201 \t cost: 0.27526363112284785 \t weights: [ 0.63574757  1.43242978 -1.97757785] \t\n",
            "iteration: 2301 \t cost: 0.27219815038388034 \t weights: [ 0.65268208  1.46317231 -2.02038244] \t\n",
            "iteration: 2401 \t cost: 0.2692843704349103 \t weights: [ 0.6693276   1.4931143  -2.06208314] \t\n",
            "iteration: 2501 \t cost: 0.266508868912564 \t weights: [ 0.68570256  1.52230723 -2.10275268] \t\n",
            "iteration: 2601 \t cost: 0.26385997157056695 \t weights: [ 0.70182336  1.55079694 -2.14245567] \t\n",
            "iteration: 2701 \t cost: 0.261327460181427 \t weights: [ 0.71770469  1.57862445 -2.18124978] \t\n",
            "iteration: 2801 \t cost: 0.25890233838870486 \t weights: [ 0.73335973  1.60582666 -2.21918676] \t\n",
            "iteration: 2901 \t cost: 0.2565766424156729 \t weights: [ 0.7488004   1.63243691 -2.25631324] \t\n"
          ]
        },
        {
          "data": {
            "image/png": "[encoded data removed]",
            "text/plain": [
              "<Figure size 640x480 with 1 Axes>"
            ]
          },
          "metadata": {},
          "output_type": "display_data"
        }
      ],
      "source": [
        "alpha = 0.01\n",
        "num_iter = 3000\n",
        "model_weights = fit(alpha, num_iter, train_x,train_y)"
      ]
    },
    {
      "cell_type": "code",
      "execution_count": 69,
      "metadata": {
        "id": "Qr3Qg4dhI7Ik"
      },
      "outputs": [],
      "source": [
        "predictions = predict(test_x, model_weights)\n",
        "pred = predictions.astype('int')\n",
        "true = test_y.astype('int')"
      ]
    },
    {
      "cell_type": "code",
      "execution_count": 70,
      "metadata": {
        "colab": {
          "base_uri": "https://localhost:8080/"
        },
        "id": "dkQHAZJaJYr7",
        "outputId": "bdc783c6-eed2-40e1-adb7-c92c6ae6382b"
      },
      "outputs": [
        {
          "name": "stdout",
          "output_type": "stream",
          "text": [
            "Confusion matrix result: \n",
            "[[10.  0.]\n",
            " [ 2. 18.]]\n",
            "accuracy = 93.33%\n"
          ]
        }
      ],
      "source": [
        "def compute_confusion_matrix(true, pred):\n",
        "\n",
        "    num_cls = len(np.unique(true)) # Number of classes\n",
        "    result = np.zeros((num_cls, num_cls))\n",
        "\n",
        "    for i in range(len(true)):\n",
        "        result[true[i]][pred[i]] += 1\n",
        "\n",
        "    return result\n",
        "\n",
        "conf_matrix = compute_confusion_matrix(true, pred)\n",
        "print('Confusion matrix result: ')\n",
        "print(conf_matrix)\n",
        "\n",
        "diagonal_sum = conf_matrix.trace()\n",
        "sum_of_all_elements = conf_matrix.sum()\n",
        "accuracy = diagonal_sum / sum_of_all_elements\n",
        "print('accuracy = {:0.2f}%'.format(accuracy*100))"
      ]
    },
    {
      "cell_type": "markdown",
      "metadata": {
        "id": "DmstOXHGKsTA"
      },
      "source": [
        "## Task 1 [40 marks]\n",
        "\n",
        "In the provided code, the network's performance was assessed using the same training dataset for both training and evaluation, which is not a recommended practice in evaluating machine learning algorithms. Your task is to adjust the code to split the data into two separate sets: a training set and a testing set. The training set should account for 80% of the original data, while the remaining 20% will constitute the test data. Additionally, as part of your report, you should address the following points:\n",
        "\n",
        "1. **Importance of Having Two Datasets**: In your report, discuss the significance of using two distinct datasets (training and testing) when evaluating a machine learning algorithm.\n",
        "\n",
        "2. **Code for Data Splitting**: Provide the code you used to divide the original dataset into the training and testing datasets. Ensure that the split is random and maintains data integrity.\n",
        "\n",
        "3. **Confusion Matrix and Accuracy**: After modifying the code and training the model on the training dataset, calculate the confusion matrix and total accuracy of the algorithm using the testing dataset. Include these performance metrics in your report to assess the model's effectiveness in classifying data.\n",
        "\n",
        "Please ensure that your code is well-documented and your report provides clear explanations of the concepts discussed.\n"
      ]
    },
    {
      "cell_type": "code",
      "execution_count": null,
      "metadata": {
        "id": "WqOCC42YKkBB"
      },
      "outputs": [],
      "source": []
    },
    {
      "cell_type": "code",
      "execution_count": null,
      "metadata": {
        "id": "5LmqnYkEKxEa"
      },
      "outputs": [],
      "source": [
        "\n"
      ]
    },
    {
      "cell_type": "code",
      "execution_count": null,
      "metadata": {
        "id": "cLVyrAr0OcQl"
      },
      "outputs": [],
      "source": []
    },
    {
      "cell_type": "code",
      "execution_count": null,
      "metadata": {
        "id": "fczAU7-6OcAG"
      },
      "outputs": [],
      "source": []
    },
    {
      "cell_type": "markdown",
      "metadata": {
        "id": "96K-1MTdRyxJ"
      },
      "source": [
        "## Task 2 [20 marks]\n",
        "\n",
        "In the provided code, the primary objective was to classify Iris-Setosa versus other classes. Your task is to modify the code so that it can classify Iris-Versicolor versus other classes and Iris-Virginica versus other classes separately. For each case, you should divide the dataset into training and testing subsets. Additionally, your report should cover the following aspects:\n",
        "\n",
        "1. **Dataset Adjustment Code**: Provide the code you used to adjust the dataset for each classification scenario, ensuring that you have separate training and testing data for Iris-Versicolor versus other classes and Iris-Virginica versus other classes.\n",
        "\n",
        "2. **Reporting Weights**: Present the final weights obtained for each classification case.\n",
        "\n",
        "3. **Performance Comparison**: Compare the performance of the network for each classification case. Discuss any differences in performance and provide justifications for why the performance may vary between the two cases. Consider factors such as dataset characteristics and class separability.\n",
        "\n",
        "Ensure that your code modifications are clearly documented, and your report provides insightful explanations for the observed differences in classification performance.\n"
      ]
    },
    {
      "cell_type": "code",
      "execution_count": null,
      "metadata": {
        "id": "OAdfL0-FTswN"
      },
      "outputs": [],
      "source": []
    },
    {
      "cell_type": "code",
      "execution_count": null,
      "metadata": {
        "id": "HPo81rdcVjuH"
      },
      "outputs": [],
      "source": []
    },
    {
      "cell_type": "code",
      "execution_count": null,
      "metadata": {
        "id": "MFOh5sMgWNS5"
      },
      "outputs": [],
      "source": []
    },
    {
      "cell_type": "code",
      "execution_count": null,
      "metadata": {
        "id": "wCnkTncHWXWw"
      },
      "outputs": [],
      "source": []
    },
    {
      "cell_type": "markdown",
      "metadata": {
        "id": "vuh6eileWnLb"
      },
      "source": [
        "## Task 3 [40 marks]\n",
        "\n",
        "In this tutorial, you were introduced to the parameter $\\alpha$, also known as the learning rate. A fixed value of $0.01$ was chosen for our algorithm. Your task is to investigate the effect of selecting different values of $\\alpha$ for the Iris-Setosa vs. All classifier. In your report, please cover the following aspects:\n",
        "\n",
        "1. **Variation of $\\alpha$**: Experiment with different values of $\\alpha$ (e.g., 0.0001, 0.1, 1, 100). Note that you may want to print the loss more frequently to observe the initial behavior of the algorithm when using different $\\alpha$ values.\n",
        "\n",
        "2. **Code Execution**: Run the code for each of the specified $\\alpha$ values and record the performance of the network for each case.\n",
        "\n",
        "3. **Visualisation**: Include a graphical representation of the cost versus epochs for each $\\alpha$ value. Additionally, report the accuracy of the test data and provide confusion matrices for each $\\alpha$ value.\n",
        "\n",
        "4. **Discussion**: In your own words, explain why the performance of the algorithm changes when using different $\\alpha$ values. Discuss the effect of the learning rate on the gradient descent process, considering aspects like convergence speed, stability, and the risk of overshooting.\n",
        "\n",
        "Ensure that your code adjustments are well-documented, and your report provides clear insights into the impact of varying the learning rate on the performance of the Iris-Setosa vs. All classifier.\n"
      ]
    },
    {
      "cell_type": "code",
      "execution_count": null,
      "metadata": {
        "id": "4vZn7QQeXyNc"
      },
      "outputs": [],
      "source": []
    },
    {
      "cell_type": "code",
      "execution_count": null,
      "metadata": {
        "id": "axf_lxj2Ydjd"
      },
      "outputs": [],
      "source": []
    },
    {
      "cell_type": "code",
      "execution_count": null,
      "metadata": {
        "id": "5VHdZWYgYoQo"
      },
      "outputs": [],
      "source": []
    },
    {
      "cell_type": "code",
      "execution_count": null,
      "metadata": {
        "id": "GKyqU62SY5hw"
      },
      "outputs": [],
      "source": []
    },
    {
      "cell_type": "code",
      "execution_count": null,
      "metadata": {
        "id": "YtO_pfFoY9Be"
      },
      "outputs": [],
      "source": []
    },
    {
      "cell_type": "code",
      "execution_count": null,
      "metadata": {
        "id": "KfXK13EcZDKM"
      },
      "outputs": [],
      "source": []
    },
    {
      "cell_type": "code",
      "execution_count": null,
      "metadata": {
        "id": "zdQ9b7_sZF9h"
      },
      "outputs": [],
      "source": []
    },
    {
      "cell_type": "code",
      "execution_count": null,
      "metadata": {
        "id": "ZjraCvgjZMkW"
      },
      "outputs": [],
      "source": []
    }
  ],
  "metadata": {
    "colab": {
      "authorship_tag": "ABX9TyMC9l1315npcyEShduPKX3y",
      "include_colab_link": true,
      "provenance": [],
      "toc_visible": true
    },
    "kernelspec": {
      "display_name": "Python 3",
      "name": "python3"
    },
    "language_info": {
      "codemirror_mode": {
        "name": "ipython",
        "version": 3
      },
      "file_extension": ".py",
      "mimetype": "text/x-python",
      "name": "python",
      "nbconvert_exporter": "python",
      "pygments_lexer": "ipython3",
      "version": "3.11.6"
    }
  },
  "nbformat": 4,
  "nbformat_minor": 0
}
