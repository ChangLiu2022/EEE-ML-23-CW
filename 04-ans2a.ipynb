{
  "cells": [
    {
      "cell_type": "markdown",
      "metadata": {
        "colab_type": "text",
        "id": "view-in-github"
      },
      "source": [
        "<a href=\"https://colab.research.google.com/github/abuebayyeh/imperial_eee_machine_learning_course/blob/main/04_ML_Logistic.ipynb\" target=\"_parent\"><img src=\"https://colab.research.google.com/assets/colab-badge.svg\" alt=\"Open In Colab\"/></a>"
      ]
    },
    {
      "cell_type": "markdown",
      "metadata": {
        "id": "tuGhkogsHwoU"
      },
      "source": [
        "# Data Used & Problem Definition\n",
        "\n",
        "We will use logistic regression as a binary classifier between Setosa vs other classes (verginica and versicolor grouped together). Here we say that data points with features that result in output probabilities closer to 0 are likely Setosa, while values closer to 1 are likely not Setosa. For simplicity, we will consider two features, petal length and sepal length, which can be visualised in a 2D plot."
      ]
    },
    {
      "cell_type": "code",
      "execution_count": 71,
      "metadata": {
        "id": "3FDTMPVBICnn"
      },
      "outputs": [],
      "source": [
        "import numpy as np\n",
        "import matplotlib.pyplot as plt\n",
        "import seaborn as sns\n",
        "from sklearn import datasets\n",
        "import pandas as pd"
      ]
    },
    {
      "cell_type": "code",
      "execution_count": 72,
      "metadata": {
        "id": "TC00kVohIHQX"
      },
      "outputs": [],
      "source": [
        "iris = datasets.load_iris()"
      ]
    },
    {
      "cell_type": "code",
      "execution_count": 73,
      "metadata": {
        "id": "1Dn4d5jZIKl2"
      },
      "outputs": [],
      "source": [
        "iris_data = pd.DataFrame(data=iris['data'],columns=iris['feature_names'])\n",
        "iris_data[\"target\"] = iris['target']"
      ]
    },
    {
      "cell_type": "code",
      "execution_count": 74,
      "metadata": {
        "colab": {
          "base_uri": "https://localhost:8080/",
          "height": 424
        },
        "id": "5hel-hsFIM2l",
        "outputId": "821fa2e6-3f98-454a-dd46-1344b84f382e"
      },
      "outputs": [
        {
          "data": {
            "text/html": [
              "<div>\n",
              "<style scoped>\n",
              "    .dataframe tbody tr th:only-of-type {\n",
              "        vertical-align: middle;\n",
              "    }\n",
              "\n",
              "    .dataframe tbody tr th {\n",
              "        vertical-align: top;\n",
              "    }\n",
              "\n",
              "    .dataframe thead th {\n",
              "        text-align: right;\n",
              "    }\n",
              "</style>\n",
              "<table border=\"1\" class=\"dataframe\">\n",
              "  <thead>\n",
              "    <tr style=\"text-align: right;\">\n",
              "      <th></th>\n",
              "      <th>sepal length (cm)</th>\n",
              "      <th>sepal width (cm)</th>\n",
              "      <th>petal length (cm)</th>\n",
              "      <th>petal width (cm)</th>\n",
              "      <th>target</th>\n",
              "    </tr>\n",
              "  </thead>\n",
              "  <tbody>\n",
              "    <tr>\n",
              "      <th>0</th>\n",
              "      <td>5.1</td>\n",
              "      <td>3.5</td>\n",
              "      <td>1.4</td>\n",
              "      <td>0.2</td>\n",
              "      <td>0</td>\n",
              "    </tr>\n",
              "    <tr>\n",
              "      <th>1</th>\n",
              "      <td>4.9</td>\n",
              "      <td>3.0</td>\n",
              "      <td>1.4</td>\n",
              "      <td>0.2</td>\n",
              "      <td>0</td>\n",
              "    </tr>\n",
              "    <tr>\n",
              "      <th>2</th>\n",
              "      <td>4.7</td>\n",
              "      <td>3.2</td>\n",
              "      <td>1.3</td>\n",
              "      <td>0.2</td>\n",
              "      <td>0</td>\n",
              "    </tr>\n",
              "    <tr>\n",
              "      <th>3</th>\n",
              "      <td>4.6</td>\n",
              "      <td>3.1</td>\n",
              "      <td>1.5</td>\n",
              "      <td>0.2</td>\n",
              "      <td>0</td>\n",
              "    </tr>\n",
              "    <tr>\n",
              "      <th>4</th>\n",
              "      <td>5.0</td>\n",
              "      <td>3.6</td>\n",
              "      <td>1.4</td>\n",
              "      <td>0.2</td>\n",
              "      <td>0</td>\n",
              "    </tr>\n",
              "    <tr>\n",
              "      <th>...</th>\n",
              "      <td>...</td>\n",
              "      <td>...</td>\n",
              "      <td>...</td>\n",
              "      <td>...</td>\n",
              "      <td>...</td>\n",
              "    </tr>\n",
              "    <tr>\n",
              "      <th>145</th>\n",
              "      <td>6.7</td>\n",
              "      <td>3.0</td>\n",
              "      <td>5.2</td>\n",
              "      <td>2.3</td>\n",
              "      <td>2</td>\n",
              "    </tr>\n",
              "    <tr>\n",
              "      <th>146</th>\n",
              "      <td>6.3</td>\n",
              "      <td>2.5</td>\n",
              "      <td>5.0</td>\n",
              "      <td>1.9</td>\n",
              "      <td>2</td>\n",
              "    </tr>\n",
              "    <tr>\n",
              "      <th>147</th>\n",
              "      <td>6.5</td>\n",
              "      <td>3.0</td>\n",
              "      <td>5.2</td>\n",
              "      <td>2.0</td>\n",
              "      <td>2</td>\n",
              "    </tr>\n",
              "    <tr>\n",
              "      <th>148</th>\n",
              "      <td>6.2</td>\n",
              "      <td>3.4</td>\n",
              "      <td>5.4</td>\n",
              "      <td>2.3</td>\n",
              "      <td>2</td>\n",
              "    </tr>\n",
              "    <tr>\n",
              "      <th>149</th>\n",
              "      <td>5.9</td>\n",
              "      <td>3.0</td>\n",
              "      <td>5.1</td>\n",
              "      <td>1.8</td>\n",
              "      <td>2</td>\n",
              "    </tr>\n",
              "  </tbody>\n",
              "</table>\n",
              "<p>150 rows × 5 columns</p>\n",
              "</div>"
            ],
            "text/plain": [
              "     sepal length (cm)  sepal width (cm)  petal length (cm)  petal width (cm)  \\\n",
              "0                  5.1               3.5                1.4               0.2   \n",
              "1                  4.9               3.0                1.4               0.2   \n",
              "2                  4.7               3.2                1.3               0.2   \n",
              "3                  4.6               3.1                1.5               0.2   \n",
              "4                  5.0               3.6                1.4               0.2   \n",
              "..                 ...               ...                ...               ...   \n",
              "145                6.7               3.0                5.2               2.3   \n",
              "146                6.3               2.5                5.0               1.9   \n",
              "147                6.5               3.0                5.2               2.0   \n",
              "148                6.2               3.4                5.4               2.3   \n",
              "149                5.9               3.0                5.1               1.8   \n",
              "\n",
              "     target  \n",
              "0         0  \n",
              "1         0  \n",
              "2         0  \n",
              "3         0  \n",
              "4         0  \n",
              "..      ...  \n",
              "145       2  \n",
              "146       2  \n",
              "147       2  \n",
              "148       2  \n",
              "149       2  \n",
              "\n",
              "[150 rows x 5 columns]"
            ]
          },
          "execution_count": 74,
          "metadata": {},
          "output_type": "execute_result"
        }
      ],
      "source": [
        "iris_data"
      ]
    },
    {
      "cell_type": "code",
      "execution_count": 75,
      "metadata": {
        "colab": {
          "base_uri": "https://localhost:8080/"
        },
        "id": "zNoqQbx2IPyP",
        "outputId": "b4eae640-75ab-4c3b-e9a2-2f18df618430"
      },
      "outputs": [
        {
          "data": {
            "text/plain": [
              "array(['setosa', 'versicolor', 'virginica'], dtype='<U10')"
            ]
          },
          "execution_count": 75,
          "metadata": {},
          "output_type": "execute_result"
        }
      ],
      "source": [
        "iris.target_names"
      ]
    },
    {
      "cell_type": "code",
      "execution_count": 76,
      "metadata": {
        "colab": {
          "base_uri": "https://localhost:8080/",
          "height": 472
        },
        "id": "NuD4gX7EISx_",
        "outputId": "cd5f5bd1-4ee2-40c3-9caa-7bd6db1147ef"
      },
      "outputs": [
        {
          "data": {
            "image/png": "[encoded data removed]",
            "text/plain": [
              "<Figure size 640x480 with 1 Axes>"
            ]
          },
          "metadata": {},
          "output_type": "display_data"
        }
      ],
      "source": [
        "# Target labels are the index in iris.target_names\n",
        "labels = iris_data.iloc[:,4]\n",
        "\n",
        "# Setosa is assigned label 0, while all other classes will have a label of 1\n",
        "y = np.where(labels == 1, 0, 1)\n",
        "\n",
        "# Consider only two features - sepal length (column 0) and petal length (column 2)\n",
        "# Bias term (intercept) is added to each data point (row)\n",
        "X = iris_data.iloc[:,[0,2]]\n",
        "intercept = np.ones((X.shape[0], 1))\n",
        "X = np.concatenate((intercept, X), axis=1)\n",
        "\n",
        "\n",
        "mix = np.concatenate((X, np.array([y]).transpose()), axis=1)\n",
        "rng = np.random.default_rng()\n",
        "rng.shuffle(mix)\n",
        "test_mix = mix[:int(0.2*len(mix)),:]\n",
        "train_mix = mix[int(0.2*len(mix)):,:]\n",
        "test_x = test_mix[:,0:3]\n",
        "test_y = test_mix[:,3]\n",
        "train_x = train_mix[:,0:3]\n",
        "train_y = train_mix[:,3]\n",
        "\n",
        "# Plot features in 2D plot - sepal length (x-axis) vs petal length (y-axis)\n",
        "feat1, feat2 = 'sepal length (cm)', 'petal length (cm)'\n",
        "X_target = iris_data[iris_data.target==1]\n",
        "X_other = iris_data[iris_data.target!=1]\n",
        "\n",
        "plt.scatter(X_target[feat1],X_target[feat2],color='red',marker='o',label=\"Versicolor\")\n",
        "plt.scatter(X_other[feat1],X_other[feat2],color='blue',marker='o',label='Other')\n",
        "plt.title(\"Sepal Length vs Petal Length\")\n",
        "plt.xlabel(feat1)\n",
        "plt.ylabel(feat2)\n",
        "plt.legend(loc='upper left')\n",
        "plt.show()"
      ]
    },
    {
      "cell_type": "code",
      "execution_count": 77,
      "metadata": {
        "id": "QwHM2TcGIV-y"
      },
      "outputs": [],
      "source": [
        "def sigmoid(z):\n",
        "    # Sigmoid function\n",
        "    return 1 / (1 + np.exp(-z))"
      ]
    },
    {
      "cell_type": "code",
      "execution_count": 78,
      "metadata": {
        "id": "KQ0hmOVcIY_N"
      },
      "outputs": [],
      "source": [
        "def cost(Y, y):\n",
        "    # log-loss or Binary Cross Entropy (BCE)\n",
        "    eps = 1e-15 # to avoid numerical error at log(0)\n",
        "    return (-y * np.log(Y+eps) - (1 - y) * np.log(1 - Y + eps)).mean()"
      ]
    },
    {
      "cell_type": "code",
      "execution_count": 79,
      "metadata": {
        "id": "Dmh5HE0rIcIL"
      },
      "outputs": [],
      "source": [
        "def plot_cost(loss):\n",
        "    # Function for plotting the cost vs iterations.\n",
        "    plt.plot(range(1, len(loss) + 1), loss)\n",
        "    plt.xlabel('Iterations')\n",
        "    plt.ylabel('Cost')\n",
        "    # plt.savefig('plot.pdf')\n",
        "    plt.show()"
      ]
    },
    {
      "cell_type": "code",
      "execution_count": 80,
      "metadata": {
        "id": "dQvex0M3If5M"
      },
      "outputs": [],
      "source": [
        "def predict(X, W):\n",
        "    # Function for predicting on test data (see Task 1)\n",
        "    prediction = sigmoid(np.dot(X, W))\n",
        "    return prediction.round()"
      ]
    },
    {
      "cell_type": "code",
      "execution_count": 81,
      "metadata": {
        "id": "tQLiEuuJIjlQ"
      },
      "outputs": [],
      "source": [
        "def fit(alpha, num_iter, X, y):\n",
        "    # weights initialization\n",
        "    W = np.zeros(X.shape[1])\n",
        "    loss_list = []\n",
        "    for i in range(num_iter):\n",
        "        # Feed forward\n",
        "        z = np.dot(X, W)\n",
        "        Y = sigmoid(z)\n",
        "        # Gradient\n",
        "        W += alpha * (np.dot(X.T, (y-Y)) / y.size)\n",
        "        loss = cost(Y, y)\n",
        "        loss_list.append(loss)\n",
        "\n",
        "        if i % 100 == 0:\n",
        "            print(f'iteration: {i+1} \\t', f'cost: {loss} \\t', f'weights: {W} \\t')\n",
        "    plot_cost(loss_list)\n",
        "    # This function will return the final weights as an array\n",
        "    return W"
      ]
    },
    {
      "cell_type": "code",
      "execution_count": 82,
      "metadata": {
        "colab": {
          "base_uri": "https://localhost:8080/",
          "height": 970
        },
        "id": "HHGlIadPIpCR",
        "outputId": "430ebe4b-e76d-4746-ee2e-129df45700bd"
      },
      "outputs": [
        {
          "name": "stdout",
          "output_type": "stream",
          "text": [
            "iteration: 1 \t cost: 0.6931471805599435 \t weights: [0.00116667 0.00652083 0.00272917] \t\n",
            "iteration: 101 \t cost: 0.6572093535323179 \t weights: [ 0.02596689  0.1162692  -0.07731745] \t\n",
            "iteration: 201 \t cost: 0.6474357887169752 \t weights: [ 0.03862232  0.17071391 -0.15824984] \t\n",
            "iteration: 301 \t cost: 0.6416991248177826 \t weights: [ 0.0470526   0.21285193 -0.22017852] \t\n",
            "iteration: 401 \t cost: 0.6382636616165648 \t weights: [ 0.05233479  0.24579805 -0.26804416] \t\n",
            "iteration: 501 \t cost: 0.6361675001071457 \t weights: [ 0.05524533  0.27180167 -0.30537473] \t\n",
            "iteration: 601 \t cost: 0.6348661817158585 \t weights: [ 0.05634971  0.29250406 -0.33471613] \t\n",
            "iteration: 701 \t cost: 0.6340447104996374 \t weights: [ 0.05606527  0.30911858 -0.35793201] \t\n",
            "iteration: 801 \t cost: 0.6335171368686983 \t weights: [ 0.05470418  0.3225542  -0.37640672] \t\n",
            "iteration: 901 \t cost: 0.6331717438232584 \t weights: [ 0.05250289  0.33350024 -0.39118258] \t\n",
            "iteration: 1001 \t cost: 0.632940404816857 \t weights: [ 0.04964246  0.34248507 -0.40305383] \t\n",
            "iteration: 1101 \t cost: 0.6327810555996902 \t weights: [ 0.04626282  0.34991747 -0.41263192] \t\n",
            "iteration: 1201 \t cost: 0.6326674558328685 \t weights: [ 0.04247301  0.35611611 -0.42039164] \t\n",
            "iteration: 1301 \t cost: 0.6325830978523654 \t weights: [ 0.03835851  0.36133106 -0.42670431] \t\n",
            "iteration: 1401 \t cost: 0.6325175249903698 \t weights: [ 0.03398676  0.36575961 -0.4318621 ] \t\n",
            "iteration: 1501 \t cost: 0.6324640762375247 \t weights: [ 0.02941114  0.36955805 -0.436096  ] \t\n",
            "iteration: 1601 \t cost: 0.6324184890116282 \t weights: [ 0.02467409  0.37285069 -0.43958938] \t\n",
            "iteration: 1701 \t cost: 0.632378025382421 \t weights: [ 0.01980946  0.37573669 -0.44248828] \t\n",
            "iteration: 1801 \t cost: 0.6323409213838492 \t weights: [ 0.0148443   0.37829528 -0.44490932] \t\n",
            "iteration: 1901 \t cost: 0.6323060377192381 \t weights: [ 0.00980027  0.38058998 -0.44694582] \t\n",
            "iteration: 2001 \t cost: 0.6322726370396247 \t weights: [ 0.00469473  0.38267172 -0.4486726 ] \t\n",
            "iteration: 2101 \t cost: 0.6322402413165722 \t weights: [-0.00045837  0.38458141 -0.45014973] \t\n",
            "iteration: 2201 \t cost: 0.6322085401844528 \t weights: [-0.0056478   0.38635198 -0.4514255 ] \t\n",
            "iteration: 2301 \t cost: 0.6321773318685975 \t weights: [-0.01086454  0.38800992 -0.45253875] \t\n",
            "iteration: 2401 \t cost: 0.6321464850255619 \t weights: [-0.01610135  0.38957655 -0.45352076] \t\n",
            "iteration: 2501 \t cost: 0.6321159140455684 \t weights: [-0.02135235  0.39106907 -0.45439672] \t\n",
            "iteration: 2601 \t cost: 0.6320855630432161 \t weights: [-0.02661285  0.39250135 -0.45518696] \t\n",
            "iteration: 2701 \t cost: 0.6320553954670523 \t weights: [-0.03187905  0.39388457 -0.45590784] \t\n",
            "iteration: 2801 \t cost: 0.6320253873490739 \t weights: [-0.03714789  0.39522775 -0.45657258] \t\n",
            "iteration: 2901 \t cost: 0.6319955229154196 \t weights: [-0.04241691  0.39653817 -0.45719184] \t\n",
            "iteration: 3001 \t cost: 0.6319657917304499 \t weights: [-0.04768411  0.3978217  -0.45777422] \t\n",
            "iteration: 3101 \t cost: 0.6319361868375227 \t weights: [-0.0529479   0.39908311 -0.45832668] \t\n",
            "iteration: 3201 \t cost: 0.6319067035480972 \t weights: [-0.058207    0.40032621 -0.45885482] \t\n",
            "iteration: 3301 \t cost: 0.6318773386528039 \t weights: [-0.06346036  0.4015541  -0.45936317] \t\n",
            "iteration: 3401 \t cost: 0.6318480899072928 \t weights: [-0.06870716  0.40276928 -0.45985537] \t\n",
            "iteration: 3501 \t cost: 0.6318189556970762 \t weights: [-0.07394673  0.40397378 -0.4603344 ] \t\n",
            "iteration: 3601 \t cost: 0.6317899348190106 \t weights: [-0.07917853  0.40516921 -0.46080262] \t\n",
            "iteration: 3701 \t cost: 0.6317610263388065 \t weights: [-0.08440213  0.40635692 -0.46126197] \t\n",
            "iteration: 3801 \t cost: 0.6317322294981008 \t weights: [-0.08961718  0.40753795 -0.46171401] \t\n",
            "iteration: 3901 \t cost: 0.6317035436538483 \t weights: [-0.09482343  0.40871317 -0.46215999] \t\n",
            "iteration: 4001 \t cost: 0.6316749682387859 \t weights: [-0.10002064  0.40988327 -0.46260092] \t\n",
            "iteration: 4101 \t cost: 0.6316465027356457 \t weights: [-0.10520865  0.41104883 -0.46303764] \t\n",
            "iteration: 4201 \t cost: 0.6316181466603309 \t weights: [-0.11038732  0.4122103  -0.46347079] \t\n",
            "iteration: 4301 \t cost: 0.6315898995509389 \t weights: [-0.11555654  0.41336804 -0.46390092] \t\n",
            "iteration: 4401 \t cost: 0.6315617609606031 \t weights: [-0.12071624  0.41452237 -0.46432846] \t\n",
            "iteration: 4501 \t cost: 0.6315337304528171 \t weights: [-0.12586636  0.4156735  -0.46475377] \t\n",
            "iteration: 4601 \t cost: 0.6315058075983874 \t weights: [-0.13100684  0.41682166 -0.46517711] \t\n",
            "iteration: 4701 \t cost: 0.631477991973442 \t weights: [-0.13613766  0.41796699 -0.46559873] \t\n",
            "iteration: 4801 \t cost: 0.6314502831581305 \t weights: [-0.14125878  0.41910962 -0.46601881] \t\n",
            "iteration: 4901 \t cost: 0.6314226807357747 \t weights: [-0.1463702   0.42024966 -0.4664375 ] \t\n",
            "iteration: 5001 \t cost: 0.6313951842923134 \t weights: [-0.15147191  0.4213872  -0.46685491] \t\n",
            "iteration: 5101 \t cost: 0.631367793415937 \t weights: [-0.1565639   0.42252231 -0.46727116] \t\n",
            "iteration: 5201 \t cost: 0.63134050769685 \t weights: [-0.16164617  0.42365504 -0.46768631] \t\n",
            "iteration: 5301 \t cost: 0.6313133267271122 \t weights: [-0.16671873  0.42478544 -0.46810043] \t\n",
            "iteration: 5401 \t cost: 0.6312862501005349 \t weights: [-0.17178159  0.42591356 -0.46851358] \t\n",
            "iteration: 5501 \t cost: 0.6312592774126098 \t weights: [-0.17683475  0.42703941 -0.4689258 ] \t\n",
            "iteration: 5601 \t cost: 0.6312324082604628 \t weights: [-0.18187822  0.42816304 -0.46933712] \t\n",
            "iteration: 5701 \t cost: 0.6312056422428204 \t weights: [-0.18691203  0.42928446 -0.46974757] \t\n",
            "iteration: 5801 \t cost: 0.6311789789599869 \t weights: [-0.19193617  0.43040369 -0.47015718] \t\n",
            "iteration: 5901 \t cost: 0.6311524180138266 \t weights: [-0.19695068  0.43152075 -0.47056595] \t\n"
          ]
        },
        {
          "data": {
            "image/png": "[encoded data removed]",
            "text/plain": [
              "<Figure size 640x480 with 1 Axes>"
            ]
          },
          "metadata": {},
          "output_type": "display_data"
        }
      ],
      "source": [
        "alpha = 0.01\n",
        "num_iter = 6000\n",
        "model_weights = fit(alpha, num_iter, train_x,train_y)"
      ]
    },
    {
      "cell_type": "code",
      "execution_count": 83,
      "metadata": {
        "id": "Qr3Qg4dhI7Ik"
      },
      "outputs": [],
      "source": [
        "predictions = predict(test_x, model_weights)\n",
        "pred = predictions.astype('int')\n",
        "true = test_y.astype('int')"
      ]
    },
    {
      "cell_type": "code",
      "execution_count": 84,
      "metadata": {
        "colab": {
          "base_uri": "https://localhost:8080/"
        },
        "id": "dkQHAZJaJYr7",
        "outputId": "bdc783c6-eed2-40e1-adb7-c92c6ae6382b"
      },
      "outputs": [
        {
          "name": "stdout",
          "output_type": "stream",
          "text": [
            "Confusion matrix result: \n",
            "[[ 0.  4.]\n",
            " [ 3. 23.]]\n",
            "accuracy = 76.67%\n"
          ]
        }
      ],
      "source": [
        "def compute_confusion_matrix(true, pred):\n",
        "\n",
        "    num_cls = len(np.unique(true)) # Number of classes\n",
        "    result = np.zeros((num_cls, num_cls))\n",
        "\n",
        "    for i in range(len(true)):\n",
        "        result[true[i]][pred[i]] += 1\n",
        "\n",
        "    return result\n",
        "\n",
        "conf_matrix = compute_confusion_matrix(true, pred)\n",
        "print('Confusion matrix result: ')\n",
        "print(conf_matrix)\n",
        "\n",
        "diagonal_sum = conf_matrix.trace()\n",
        "sum_of_all_elements = conf_matrix.sum()\n",
        "accuracy = diagonal_sum / sum_of_all_elements\n",
        "print('accuracy = {:0.2f}%'.format(accuracy*100))"
      ]
    },
    {
      "cell_type": "markdown",
      "metadata": {
        "id": "96K-1MTdRyxJ"
      },
      "source": [
        "## Task 2 [20 marks]\n",
        "\n",
        "In the provided code, the primary objective was to classify Iris-Setosa versus other classes. Your task is to modify the code so that it can classify Iris-Versicolor versus other classes and Iris-Virginica versus other classes separately. For each case, you should divide the dataset into training and testing subsets. Additionally, your report should cover the following aspects:\n",
        "\n",
        "1. **Dataset Adjustment Code**: Provide the code you used to adjust the dataset for each classification scenario, ensuring that you have separate training and testing data for Iris-Versicolor versus other classes and Iris-Virginica versus other classes.\n",
        "\n",
        "2. **Reporting Weights**: Present the final weights obtained for each classification case.\n",
        "\n",
        "3. **Performance Comparison**: Compare the performance of the network for each classification case. Discuss any differences in performance and provide justifications for why the performance may vary between the two cases. Consider factors such as dataset characteristics and class separability.\n",
        "\n",
        "Ensure that your code modifications are clearly documented, and your report provides insightful explanations for the observed differences in classification performance.\n"
      ]
    },
    {
      "cell_type": "code",
      "execution_count": null,
      "metadata": {
        "id": "OAdfL0-FTswN"
      },
      "outputs": [],
      "source": []
    },
    {
      "cell_type": "code",
      "execution_count": null,
      "metadata": {
        "id": "HPo81rdcVjuH"
      },
      "outputs": [],
      "source": []
    },
    {
      "cell_type": "code",
      "execution_count": null,
      "metadata": {
        "id": "MFOh5sMgWNS5"
      },
      "outputs": [],
      "source": []
    },
    {
      "cell_type": "code",
      "execution_count": null,
      "metadata": {
        "id": "wCnkTncHWXWw"
      },
      "outputs": [],
      "source": []
    },
    {
      "cell_type": "markdown",
      "metadata": {
        "id": "vuh6eileWnLb"
      },
      "source": [
        "## Task 3 [40 marks]\n",
        "\n",
        "In this tutorial, you were introduced to the parameter $\\alpha$, also known as the learning rate. A fixed value of $0.01$ was chosen for our algorithm. Your task is to investigate the effect of selecting different values of $\\alpha$ for the Iris-Setosa vs. All classifier. In your report, please cover the following aspects:\n",
        "\n",
        "1. **Variation of $\\alpha$**: Experiment with different values of $\\alpha$ (e.g., 0.0001, 0.1, 1, 100). Note that you may want to print the loss more frequently to observe the initial behavior of the algorithm when using different $\\alpha$ values.\n",
        "\n",
        "2. **Code Execution**: Run the code for each of the specified $\\alpha$ values and record the performance of the network for each case.\n",
        "\n",
        "3. **Visualisation**: Include a graphical representation of the cost versus epochs for each $\\alpha$ value. Additionally, report the accuracy of the test data and provide confusion matrices for each $\\alpha$ value.\n",
        "\n",
        "4. **Discussion**: In your own words, explain why the performance of the algorithm changes when using different $\\alpha$ values. Discuss the effect of the learning rate on the gradient descent process, considering aspects like convergence speed, stability, and the risk of overshooting.\n",
        "\n",
        "Ensure that your code adjustments are well-documented, and your report provides clear insights into the impact of varying the learning rate on the performance of the Iris-Setosa vs. All classifier.\n"
      ]
    },
    {
      "cell_type": "code",
      "execution_count": null,
      "metadata": {
        "id": "4vZn7QQeXyNc"
      },
      "outputs": [],
      "source": []
    },
    {
      "cell_type": "code",
      "execution_count": null,
      "metadata": {
        "id": "axf_lxj2Ydjd"
      },
      "outputs": [],
      "source": []
    },
    {
      "cell_type": "code",
      "execution_count": null,
      "metadata": {
        "id": "5VHdZWYgYoQo"
      },
      "outputs": [],
      "source": []
    },
    {
      "cell_type": "code",
      "execution_count": null,
      "metadata": {
        "id": "GKyqU62SY5hw"
      },
      "outputs": [],
      "source": []
    },
    {
      "cell_type": "code",
      "execution_count": null,
      "metadata": {
        "id": "YtO_pfFoY9Be"
      },
      "outputs": [],
      "source": []
    },
    {
      "cell_type": "code",
      "execution_count": null,
      "metadata": {
        "id": "KfXK13EcZDKM"
      },
      "outputs": [],
      "source": []
    },
    {
      "cell_type": "code",
      "execution_count": null,
      "metadata": {
        "id": "zdQ9b7_sZF9h"
      },
      "outputs": [],
      "source": []
    },
    {
      "cell_type": "code",
      "execution_count": null,
      "metadata": {
        "id": "ZjraCvgjZMkW"
      },
      "outputs": [],
      "source": []
    }
  ],
  "metadata": {
    "colab": {
      "authorship_tag": "ABX9TyMC9l1315npcyEShduPKX3y",
      "include_colab_link": true,
      "provenance": [],
      "toc_visible": true
    },
    "kernelspec": {
      "display_name": "Python 3",
      "name": "python3"
    },
    "language_info": {
      "codemirror_mode": {
        "name": "ipython",
        "version": 3
      },
      "file_extension": ".py",
      "mimetype": "text/x-python",
      "name": "python",
      "nbconvert_exporter": "python",
      "pygments_lexer": "ipython3",
      "version": "3.11.6"
    }
  },
  "nbformat": 4,
  "nbformat_minor": 0
}
